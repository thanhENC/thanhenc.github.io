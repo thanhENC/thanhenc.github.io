{
 "cells": [
  {
   "cell_type": "code",
   "execution_count": null,
   "metadata": {},
   "outputs": [],
   "source": [
    "text = \"\"\"\n",
    "mai             mai   sale sale sale sale\n",
    "mai             mai   sale\n",
    "mai             mai   sale\n",
    "mai mai mai mai mai   sale sale sale sale\n",
    "mai             mai   sale\n",
    "mai             mai   sale\n",
    "mai             mai   sale sale sale sale\n",
    "\n",
    "black        black   friday friday friday\n",
    "black        black   friday\n",
    "black        black   friday\n",
    "black black blackk   friday friday friday\n",
    "black        black   friday\n",
    "black        black   friday\n",
    "black        black   friday friday friday\"\"\"\n",
    "\n",
    "print(text)"
   ]
  },
  {
   "cell_type": "code",
   "execution_count": 2,
   "metadata": {},
   "outputs": [
    {
     "name": "stdout",
     "output_type": "stream",
     "text": [
      "\n",
      "\n",
      "\n",
      "\n",
      "\n",
      "        black black   friday friday friday   black               friday friday friday\n",
      "        black black   friday friday friday   black               friday friday friday\n",
      "    black            friday          friday  black               friday\n",
      "    black            friday          friday  black               friday \n",
      "    black            friday  friday  friday  black               friday friday friday\n",
      "        black        friday          friday  black               friday \n",
      "             black   friday          friday  black               friday          \n",
      "             black   friday          friday  black               friday \n",
      " black black black   friday          friday  black black black   friday friday friday\n",
      " black black black   friday          friday  black black black   friday friday friday\n",
      "\n",
      "\n",
      "\n",
      "\n",
      "\n"
     ]
    }
   ],
   "source": [
    "text_2 = \"\"\"\n",
    "\n",
    "\n",
    "\n",
    "\n",
    "        black black   friday friday friday   black               friday friday friday\n",
    "        black black   friday friday friday   black               friday friday friday\n",
    "    black            friday          friday  black               friday\n",
    "    black            friday          friday  black               friday \n",
    "    black            friday  friday  friday  black               friday friday friday\n",
    "        black        friday          friday  black               friday \n",
    "             black   friday          friday  black               friday          \n",
    "             black   friday          friday  black               friday \n",
    " black black black   friday          friday  black black black   friday friday friday\n",
    " black black black   friday          friday  black black black   friday friday friday\n",
    "\n",
    "\n",
    "\n",
    "\n",
    "\"\"\"\n",
    "\n",
    "print(text_2)"
   ]
  },
  {
   "cell_type": "code",
   "execution_count": null,
   "metadata": {},
   "outputs": [],
   "source": []
  }
 ],
 "metadata": {
  "kernelspec": {
   "display_name": "Python 3.9.13 64-bit (microsoft store)",
   "language": "python",
   "name": "python3"
  },
  "language_info": {
   "codemirror_mode": {
    "name": "ipython",
    "version": 3
   },
   "file_extension": ".py",
   "mimetype": "text/x-python",
   "name": "python",
   "nbconvert_exporter": "python",
   "pygments_lexer": "ipython3",
   "version": "3.9.13"
  },
  "orig_nbformat": 4,
  "vscode": {
   "interpreter": {
    "hash": "231b793e72510f63263cf75731d759da8776d8c74c3ed2dbefa0f0827e58fa6e"
   }
  }
 },
 "nbformat": 4,
 "nbformat_minor": 2
}
